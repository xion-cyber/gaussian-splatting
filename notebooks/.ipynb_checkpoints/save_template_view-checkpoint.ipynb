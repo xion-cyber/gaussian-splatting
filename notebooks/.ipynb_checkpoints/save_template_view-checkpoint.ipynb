{
 "cells": [
  {
   "cell_type": "code",
   "execution_count": 50,
   "id": "ccc9484f-f5be-4c08-b5f5-2692d61ec872",
   "metadata": {},
   "outputs": [],
   "source": [
    "import numpy as np\n",
    "from plyfile import PlyData\n",
    "import smplx\n",
    "from smplx.lbs import batch_rodrigues\n",
    "import torch"
   ]
  },
  {
   "cell_type": "code",
   "execution_count": 51,
   "id": "1013655f-a311-4501-9c73-76f6c14bcd0f",
   "metadata": {},
   "outputs": [
    {
     "data": {
      "text/plain": [
       "['hands_meanr',\n",
       " 'hands_meanl',\n",
       " 'lmk_bary_coords',\n",
       " 'vt',\n",
       " 'posedirs',\n",
       " 'part2num',\n",
       " 'hands_coeffsr',\n",
       " 'lmk_faces_idx',\n",
       " 'J_regressor',\n",
       " 'dynamic_lmk_faces_idx',\n",
       " 'hands_componentsr',\n",
       " 'shapedirs',\n",
       " 'dynamic_lmk_bary_coords',\n",
       " 'ft',\n",
       " 'hands_componentsl',\n",
       " 'joint2num',\n",
       " 'v_template',\n",
       " 'allow_pickle',\n",
       " 'f',\n",
       " 'hands_coeffsl',\n",
       " 'kintree_table',\n",
       " 'weights']"
      ]
     },
     "execution_count": 51,
     "metadata": {},
     "output_type": "execute_result"
    }
   ],
   "source": [
    "smplx_neutral_path = '/home/yeyiqi/Documents/models/SMPLX/models_smplx_v1_1/models/smplx/SMPLX_FEMALE.npz'\n",
    "smplx_neutral = np.load(smplx_neutral_path, allow_pickle=True)\n",
    "smplx_neutral.files"
   ]
  },
  {
   "cell_type": "code",
   "execution_count": 52,
   "id": "2abff4a0-1558-4584-9067-fd1ce7530d6b",
   "metadata": {},
   "outputs": [
    {
     "data": {
      "text/plain": [
       "{'betas': array([-0.72901833, -0.02397307,  0.36086836,  0.09754749, -0.01564887,\n",
       "         0.1988453 , -0.2623446 , -0.02810438,  0.0090983 , -0.01106459],\n",
       "       dtype=float32),\n",
       " 'expression': array([0., 0., 0., 0., 0., 0., 0., 0., 0., 0.], dtype=float32),\n",
       " 'fullpose': array([[-3.07444096e+00, -2.39856169e-02,  9.65236053e-02],\n",
       "        [-1.23288423e-01,  1.35821253e-01,  1.83672830e-01],\n",
       "        [-5.97385727e-02, -1.50671721e-01, -5.96103631e-02],\n",
       "        [-4.93283421e-02,  1.05310772e-02, -2.93583069e-02],\n",
       "        [ 1.88995525e-01, -3.96085018e-03, -2.67400108e-02],\n",
       "        [ 3.79582345e-02, -9.35346633e-03,  2.41890643e-02],\n",
       "        [ 1.63542181e-02,  1.76432543e-02,  9.11491290e-02],\n",
       "        [ 1.01198770e-01,  1.54060557e-01, -2.05542091e-02],\n",
       "        [ 1.26764238e-01, -1.56168893e-01,  3.70162800e-02],\n",
       "        [-6.43462166e-02,  1.52516877e-02, -3.57957333e-02],\n",
       "        [ 2.40524393e-03, -3.30665475e-03,  5.05712675e-03],\n",
       "        [ 9.58514214e-03, -2.73830164e-03, -4.60793060e-04],\n",
       "        [ 3.54146242e-01,  3.19286108e-01, -2.26992384e-01],\n",
       "        [-3.58279347e-02, -2.21030831e-01, -1.46185502e-01],\n",
       "        [-1.86637361e-02,  6.27877787e-02, -1.30401710e-02],\n",
       "        [-6.94128126e-02,  3.48527700e-01,  4.78296056e-02],\n",
       "        [-3.61124694e-01, -2.05573395e-01,  7.10795540e-03],\n",
       "        [-2.24871188e-01,  1.55110583e-01,  1.39629513e-01],\n",
       "        [-2.37143878e-02,  6.32941490e-03,  1.63573306e-02],\n",
       "        [ 2.28030402e-02,  1.28046110e-01,  5.14817704e-03],\n",
       "        [-2.39977717e-01, -1.10118069e-01,  4.99300271e-01],\n",
       "        [-1.48991942e-01,  7.40641505e-02, -2.06202418e-01],\n",
       "        [ 0.00000000e+00,  0.00000000e+00,  0.00000000e+00],\n",
       "        [ 0.00000000e+00,  0.00000000e+00,  0.00000000e+00],\n",
       "        [ 0.00000000e+00,  0.00000000e+00,  0.00000000e+00],\n",
       "        [ 3.76371481e-02,  6.94505200e-02,  1.07458159e-01],\n",
       "        [ 1.67691186e-02,  4.24774289e-02,  4.46612239e-02],\n",
       "        [-3.23068374e-03,  1.67448912e-02,  2.23592706e-02],\n",
       "        [-1.39855044e-02, -2.47079059e-02,  8.25266466e-02],\n",
       "        [-7.15154829e-03, -2.58525033e-02,  3.77274454e-02],\n",
       "        [ 3.48019041e-03, -1.92842633e-02,  1.59848630e-02],\n",
       "        [-6.46691099e-02, -7.81801119e-02,  2.08238177e-02],\n",
       "        [-1.09579032e-02, -4.65228036e-02,  1.55042019e-02],\n",
       "        [-1.94980938e-04, -1.88905466e-02,  2.20263028e-03],\n",
       "        [-2.11321823e-02, -2.47099977e-02,  5.85910901e-02],\n",
       "        [-7.35667814e-03, -2.41491031e-02,  3.15435119e-02],\n",
       "        [ 2.56152730e-03, -1.86851081e-02,  1.07834497e-02],\n",
       "        [ 3.11291125e-02,  1.71521053e-01,  6.06782772e-02],\n",
       "        [ 1.65953282e-02,  1.21792726e-01,  2.56506111e-02],\n",
       "        [ 1.26561048e-02,  6.37055039e-02,  7.64413504e-03],\n",
       "        [ 4.26469836e-03, -1.04114218e-02, -5.67947291e-02],\n",
       "        [ 1.44570193e-03, -8.57843738e-03, -3.63142602e-02],\n",
       "        [-5.31460973e-04, -3.81487026e-03, -1.79250743e-02],\n",
       "        [-5.48196444e-03,  9.37390607e-03, -3.12193688e-02],\n",
       "        [-1.64816051e-03,  1.02393320e-02, -2.40523499e-02],\n",
       "        [ 1.66460511e-03,  6.18704408e-03, -1.20159052e-02],\n",
       "        [-2.05585416e-02,  2.96019316e-02, -1.74279939e-02],\n",
       "        [ 7.45658472e-05,  1.80816036e-02, -1.33347511e-02],\n",
       "        [ 1.90343615e-03,  7.37349922e-03, -5.57335280e-03],\n",
       "        [ 2.25863070e-03,  1.86163350e-03, -5.34954853e-02],\n",
       "        [ 5.49195195e-03,  4.22268780e-03, -4.28140387e-02],\n",
       "        [ 4.66993405e-03,  4.17622505e-03, -2.10178494e-02],\n",
       "        [-3.02760601e-02, -5.69910854e-02, -6.90577328e-02],\n",
       "        [-1.86570846e-02, -4.58165035e-02, -3.41304205e-02],\n",
       "        [-9.02343541e-03, -2.10145898e-02, -1.16114970e-02]], dtype=float32),\n",
       " 'transl': array([-0.13574322,  0.3117452 , -0.28197917], dtype=float32),\n",
       " 'scale': 1.0}"
      ]
     },
     "execution_count": 52,
     "metadata": {},
     "output_type": "execute_result"
    }
   ],
   "source": [
    "smplxs_data = np.load('/home/yeyiqi/Documents/dataset/DNA-Rendering/4k4d/0023_06/smplxs.npy', allow_pickle=True)\n",
    "smplx_data = smplxs_data[138]\n",
    "smplx_data"
   ]
  },
  {
   "cell_type": "code",
   "execution_count": 53,
   "id": "6a8ada3e-de85-4634-8d2b-de526efc6f4a",
   "metadata": {},
   "outputs": [],
   "source": [
    "model_folder = '/home/yeyiqi/Documents/repos/GaussianAvatar/assets/smpl_files'\n",
    "model_type = 'smplx'\n",
    "kwargs = dict(gender='neutral',\n",
    "        num_betas=10,\n",
    "        use_face_contour=True,\n",
    "        flat_hand_mean=False,\n",
    "        use_pca=False,\n",
    "        batch_size=1,\n",
    "        ext = 'pkl'\n",
    ")\n",
    "\n",
    "model = smplx.create(\n",
    "    model_path = model_folder,\n",
    "    model_type = model_type,\n",
    "    **kwargs\n",
    ")"
   ]
  },
  {
   "cell_type": "code",
   "execution_count": 54,
   "id": "18ec50f7-a425-4104-9408-b466ec687a56",
   "metadata": {},
   "outputs": [],
   "source": [
    "from smplx.lbs import blend_shapes, vertices2joints, batch_rigid_transform\n",
    "v_template = torch.from_numpy(smplx_neutral['v_template']).view(1, -1, 3).float()\n",
    "shapedirs = torch.from_numpy(smplx_neutral['shapedirs'][:,:,:10]).float()\n",
    "J_regressor = torch.from_numpy(smplx_neutral['J_regressor']).float()\n",
    "posedirs = torch.from_numpy(smplx_neutral['posedirs']).float().view(-1, 486).T\n",
    "W = smplx_neutral['weights']\n",
    "W = torch.from_numpy(W).float()\n",
    "parents = torch.from_numpy(smplx_neutral['kintree_table'][0]).long()\n",
    "parents[0] = -1"
   ]
  },
  {
   "cell_type": "code",
   "execution_count": 55,
   "id": "12204738-7868-4136-80da-4eae9caf2526",
   "metadata": {},
   "outputs": [],
   "source": [
    "betas = torch.from_numpy(smplx_data['betas']).view(1,-1).float()\n",
    "expression = torch.from_numpy(smplx_data['expression']).view(1, -1).float()\n",
    "fullpose = torch.from_numpy(smplx_data['fullpose']).view(-1,3).float()\n",
    "transl = torch.from_numpy(smplx_data['transl']).float()"
   ]
  },
  {
   "cell_type": "code",
   "execution_count": 56,
   "id": "7ba6300b-c638-47ca-9abf-f32a70639f9f",
   "metadata": {},
   "outputs": [
    {
     "data": {
      "text/plain": [
       "tensor([[ 0.0915, -0.8823,  0.0277],\n",
       "        [ 0.0951, -0.8811,  0.0296],\n",
       "        [ 0.0960, -0.8824,  0.0295],\n",
       "        ...,\n",
       "        [ 0.0545, -0.8961, -0.0810],\n",
       "        [ 0.0555, -0.8968, -0.0788],\n",
       "        [ 0.0569, -0.8975, -0.0769]])"
      ]
     },
     "execution_count": 56,
     "metadata": {},
     "output_type": "execute_result"
    }
   ],
   "source": [
    "v_shaped = v_template + blend_shapes(betas, shapedirs)\n",
    "J = vertices2joints(J_regressor, v_shaped)\n",
    "ident = torch.eye(3, dtype=torch.float, device='cpu')\n",
    "rot_mats = batch_rodrigues(fullpose).view([1, -1, 3, 3])\n",
    "pose_feature = (rot_mats[:, 1:, :, :] - ident).view([1, -1])\n",
    "pose_offsets = torch.matmul(pose_feature, posedirs).view(1, -1, 3)\n",
    "v_posed = pose_offsets + v_shaped\n",
    "J_transformed, A = batch_rigid_transform(rot_mats, J, parents)\n",
    "W = W.unsqueeze(dim=0).expand([1, -1, -1])\n",
    "num_joints = J_regressor.shape[0]\n",
    "T = torch.matmul(W, A.view(1, num_joints, 16)).view(1, -1, 4, 4)\n",
    "homogen_coord = torch.ones([1, v_posed.shape[1], 1], dtype=torch.float, device='cpu')\n",
    "v_posed_homo = torch.cat([v_posed, homogen_coord], dim=2)\n",
    "v_homo = torch.matmul(T, torch.unsqueeze(v_posed_homo, dim=-1))\n",
    "verts = v_homo[:, :, :3, 0].squeeze(0).squeeze(-1)\n",
    "verts\n"
   ]
  },
  {
   "cell_type": "code",
   "execution_count": 57,
   "id": "e1cfea1b-6329-488c-91d1-a1ec0aa5f8a3",
   "metadata": {},
   "outputs": [],
   "source": [
    "faces = model.faces"
   ]
  },
  {
   "cell_type": "code",
   "execution_count": 58,
   "id": "a9db61ae-eade-4323-a4a0-5a4b92e15cef",
   "metadata": {},
   "outputs": [],
   "source": [
    "vertices = v_template.squeeze().numpy()\n",
    "count = vertices.shape[0]\n",
    "with open(\"/home/yeyiqi/Documents/dataset/DNA-Rendering/4k4d/0023_06/v_template.ply\", \"w\") as file:\n",
    "    file.write(f'ply\\n')\n",
    "    file.write(f\"format ascii 1.0\\n\")\n",
    "    file.write(f\"element vertex {count}\\n\")\n",
    "    file.write(f\"property float x\\n\")\n",
    "    file.write(f\"property float y\\n\")\n",
    "    file.write(f\"property float z\\n\")\n",
    "    file.write(f\"element face {faces.shape[0]}\\n\")\n",
    "    file.write(f\"property list uchar int vertex_indices\\n\")\n",
    "    file.write(f\"end_header\\n\")\n",
    "    for i in range(count):\n",
    "        vertex = vertices[i]\n",
    "        file.write(f\"{vertex[0]} {vertex[1]} {vertex[2]}\\n\")\n",
    "    for face in faces:\n",
    "        file.write(f\"3 {face[0]} {face[1]} {face[2]}\\n\")"
   ]
  },
  {
   "cell_type": "code",
   "execution_count": 59,
   "id": "7beac0d3-4bec-493c-b65b-a9a3792e0532",
   "metadata": {},
   "outputs": [],
   "source": [
    "vertices = v_shaped.squeeze().numpy()\n",
    "count = vertices.shape[0]\n",
    "with open(\"/home/yeyiqi/Documents/dataset/DNA-Rendering/4k4d/0023_06/v_shaped.ply\", \"w\") as file:\n",
    "    file.write(f'ply\\n')\n",
    "    file.write(f\"format ascii 1.0\\n\")\n",
    "    file.write(f\"element vertex {count}\\n\")\n",
    "    file.write(f\"property float x\\n\")\n",
    "    file.write(f\"property float y\\n\")\n",
    "    file.write(f\"property float z\\n\")\n",
    "    file.write(f\"element face {faces.shape[0]}\\n\")\n",
    "    file.write(f\"property list uchar int vertex_indices\\n\")\n",
    "    file.write(f\"end_header\\n\")\n",
    "    for i in range(count):\n",
    "        vertex = vertices[i]\n",
    "        file.write(f\"{vertex[0]} {vertex[1]} {vertex[2]}\\n\")\n",
    "    for face in faces:\n",
    "        file.write(f\"3 {face[0]} {face[1]} {face[2]}\\n\")"
   ]
  },
  {
   "cell_type": "code",
   "execution_count": 60,
   "id": "ec9e7450-e792-4051-965c-d64a493f3651",
   "metadata": {},
   "outputs": [],
   "source": [
    "vertices = v_posed.squeeze().numpy()\n",
    "count = vertices.shape[0]\n",
    "with open(\"/home/yeyiqi/Documents/dataset/DNA-Rendering/4k4d/0023_06/v_posed.ply\", \"w\") as file:\n",
    "    file.write(f'ply\\n')\n",
    "    file.write(f\"format ascii 1.0\\n\")\n",
    "    file.write(f\"element vertex {count}\\n\")\n",
    "    file.write(f\"property float x\\n\")\n",
    "    file.write(f\"property float y\\n\")\n",
    "    file.write(f\"property float z\\n\")\n",
    "    file.write(f\"element face {faces.shape[0]}\\n\")\n",
    "    file.write(f\"property list uchar int vertex_indices\\n\")\n",
    "    file.write(f\"end_header\\n\")\n",
    "    for i in range(count):\n",
    "        vertex = vertices[i]\n",
    "        file.write(f\"{vertex[0]} {vertex[1]} {vertex[2]}\\n\")\n",
    "    for face in faces:\n",
    "        file.write(f\"3 {face[0]} {face[1]} {face[2]}\\n\")"
   ]
  },
  {
   "cell_type": "code",
   "execution_count": 61,
   "id": "3176b083-0128-4cff-ad3d-c547f6f13841",
   "metadata": {},
   "outputs": [],
   "source": [
    "vertices = verts.squeeze().numpy()\n",
    "count = vertices.shape[0]\n",
    "with open(\"/home/yeyiqi/Documents/dataset/DNA-Rendering/4k4d/0023_06/finnal.ply\", \"w\") as file:\n",
    "    file.write(f'ply\\n')\n",
    "    file.write(f\"format ascii 1.0\\n\")\n",
    "    file.write(f\"element vertex {count}\\n\")\n",
    "    file.write(f\"property float x\\n\")\n",
    "    file.write(f\"property float y\\n\")\n",
    "    file.write(f\"property float z\\n\")\n",
    "    file.write(f\"element face {faces.shape[0]}\\n\")\n",
    "    file.write(f\"property list uchar int vertex_indices\\n\")\n",
    "    file.write(f\"end_header\\n\")\n",
    "    for i in range(count):\n",
    "        vertex = vertices[i]\n",
    "        file.write(f\"{vertex[0]} {vertex[1]} {vertex[2]}\\n\")\n",
    "    for face in faces:\n",
    "        file.write(f\"3 {face[0]} {face[1]} {face[2]}\\n\")"
   ]
  },
  {
   "cell_type": "code",
   "execution_count": 62,
   "id": "b67c2134-4de6-42a3-9113-d66a587f48d9",
   "metadata": {},
   "outputs": [],
   "source": [
    "verts_inv = verts.unsqueeze(0)\n",
    "homo = torch.ones((1, verts_inv.shape[1], 1), dtype=torch.float, device=\"cpu\")\n",
    "verts_inv_homo = torch.cat([verts_inv, homo], dim=-1)\n",
    "T_inv = torch.inverse(T)\n",
    "v_posed_inv_homo = torch.matmul(T_inv, verts_inv_homo.unsqueeze(-1))\n",
    "v_posed_inv = v_posed_inv_homo.squeeze(-1)[:, :, :3]"
   ]
  },
  {
   "cell_type": "code",
   "execution_count": 63,
   "id": "1a772e2a-af4f-46a1-a94b-7cacc5a249f1",
   "metadata": {},
   "outputs": [],
   "source": [
    "vertices = v_posed_inv.squeeze().numpy()\n",
    "count = vertices.shape[0]\n",
    "with open(\"/home/yeyiqi/Documents/dataset/DNA-Rendering/4k4d/0023_06/v_posed_inv.ply\", \"w\") as file:\n",
    "    file.write(f'ply\\n')\n",
    "    file.write(f\"format ascii 1.0\\n\")\n",
    "    file.write(f\"element vertex {count}\\n\")\n",
    "    file.write(f\"property float x\\n\")\n",
    "    file.write(f\"property float y\\n\")\n",
    "    file.write(f\"property float z\\n\")\n",
    "    file.write(f\"element face {faces.shape[0]}\\n\")\n",
    "    file.write(f\"property list uchar int vertex_indices\\n\")\n",
    "    file.write(f\"end_header\\n\")\n",
    "    for i in range(count):\n",
    "        vertex = vertices[i]\n",
    "        file.write(f\"{vertex[0]} {vertex[1]} {vertex[2]}\\n\")\n",
    "    for face in faces:\n",
    "        file.write(f\"3 {face[0]} {face[1]} {face[2]}\\n\")"
   ]
  },
  {
   "cell_type": "code",
   "execution_count": null,
   "id": "dfd49d5d-3d42-44ac-9de0-e9baa20066e5",
   "metadata": {},
   "outputs": [],
   "source": []
  }
 ],
 "metadata": {
  "kernelspec": {
   "display_name": "gaussian-avatars",
   "language": "python",
   "name": "gaussian-avatars"
  },
  "language_info": {
   "codemirror_mode": {
    "name": "ipython",
    "version": 3
   },
   "file_extension": ".py",
   "mimetype": "text/x-python",
   "name": "python",
   "nbconvert_exporter": "python",
   "pygments_lexer": "ipython3",
   "version": "3.10.16"
  }
 },
 "nbformat": 4,
 "nbformat_minor": 5
}
