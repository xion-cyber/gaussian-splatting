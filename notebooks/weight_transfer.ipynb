{
 "cells": [
  {
   "cell_type": "code",
   "execution_count": 182,
   "id": "f0eb6b35-86af-4523-827e-78a6dee9cd18",
   "metadata": {},
   "outputs": [],
   "source": [
    "import igl\n",
    "import numpy as np\n",
    "import math\n",
    "import scipy as sp\n",
    "import polyscope as ps\n",
    "import os \n",
    "import trimesh\n",
    "import robust_laplacian"
   ]
  },
  {
   "cell_type": "code",
   "execution_count": 183,
   "id": "749fcd2f-cedb-4f6d-bd01-d79ba9a7a5ad",
   "metadata": {},
   "outputs": [],
   "source": [
    "def find_closest_point_on_surface(P, V, F):\n",
    "    \"\"\"\n",
    "    Given a number of points find their closest points on the surface of the V,F mesh\n",
    "\n",
    "    Args:\n",
    "        P: #P by 3, where every row is a point coordinate\n",
    "        V: #V by 3 mesh vertices\n",
    "        F: #F by 3 mesh triangles indices\n",
    "    Returns:\n",
    "        sqrD #P smallest squared distances\n",
    "        I #P primitive indices corresponding to smallest distances\n",
    "        C #P by 3 closest points\n",
    "        B #P by 3 of the barycentric coordinates of the closest point\n",
    "    \"\"\"\n",
    "    \n",
    "    sqrD,I,C = igl.point_mesh_squared_distance(P, V, F)\n",
    "\n",
    "    F_closest = F[I,:]\n",
    "    V1 = V[F_closest[:,0],:]\n",
    "    V2 = V[F_closest[:,1],:]\n",
    "    V3 = V[F_closest[:,2],:]\n",
    "\n",
    "    B = igl.barycentric_coordinates_tri(C, V1, V2, V3)\n",
    "\n",
    "    return sqrD,I,C,B\n",
    "\n",
    "def interpolate_attribute_from_bary(A,B,I,F):\n",
    "    \"\"\"\n",
    "    Interpolate per-vertex attributes A via barycentric coordinates B of the F[I,:] vertices\n",
    "\n",
    "    Args:\n",
    "        A: #V by N per-vertex attributes\n",
    "        B  #B by 3 array of the barycentric coordinates of some points\n",
    "        I  #B primitive indices containing the closest point\n",
    "        F: #F by 3 mesh triangle indices\n",
    "    Returns:\n",
    "        A_out #B interpolated attributes\n",
    "    \"\"\"\n",
    "    F_closest = F[I,:]\n",
    "    a1 = A[F_closest[:,0],:]\n",
    "    a2 = A[F_closest[:,1],:]\n",
    "    a3 = A[F_closest[:,2],:]\n",
    "\n",
    "    b1 = B[:,0]\n",
    "    b2 = B[:,1]\n",
    "    b3 = B[:,2]\n",
    "\n",
    "    b1 = b1.reshape(-1,1)\n",
    "    b2 = b2.reshape(-1,1)\n",
    "    b3 = b3.reshape(-1,1)\n",
    "    \n",
    "    A_out = a1*b1 + a2*b2 + a3*b3\n",
    "\n",
    "    return A_out\n",
    "\n",
    "def normalize_vec(v):\n",
    "    return v/np.linalg.norm(v)\n",
    "\n",
    "\n",
    "def find_matches_closest_surface(V1, F1, N1, V2, F2, N2, W1, dDISTANCE_THRESHOLD_SQRD, dANGLE_THRESHOLD_DEGREES):\n",
    "    \"\"\"\n",
    "    For each vertex on the target mesh find a match on the source mesh.\n",
    "\n",
    "    Args:\n",
    "        V1: #V1 by 3 source mesh vertices\n",
    "        F1: #F1 by 3 source mesh triangles indices\n",
    "        N1: #V1 by 3 source mesh normals\n",
    "        \n",
    "        V2: #V2 by 3 target mesh vertices\n",
    "        F2: #F2 by 3 target mesh triangles indices\n",
    "        N2: #V2 by 3 target mesh normals\n",
    "        \n",
    "        W1: #V1 by num_bones source mesh skin weights\n",
    "\n",
    "        dDISTANCE_THRESHOLD_SQRD: scalar distance threshold\n",
    "        dANGLE_THRESHOLD_DEGREES: scalar normal threshold\n",
    "\n",
    "    Returns:\n",
    "        Matched: #V2 array of bools, where Matched[i] is True if we found a good match for vertex i on the source mesh\n",
    "        W2: #V2 by num_bones, where W2[i,:] are skinning weights copied directly from source using closest point method\n",
    "    \"\"\"\n",
    "\n",
    "    Matched = np.zeros(shape = (V2.shape[0]), dtype=bool)\n",
    "    sqrD,I,C,B = find_closest_point_on_surface(V2,V1,F1)\n",
    "    \n",
    "    # for each closest point on the source, interpolate its per-vertex attributes(skin weights and normals) \n",
    "    # using the barycentric coordinates\n",
    "    W2 = interpolate_attribute_from_bary(W1,B,I,F1)\n",
    "    N1_match_interpolated = interpolate_attribute_from_bary(N1,B,I,F1)\n",
    "    \n",
    "    # check that the closest point passes our distance and normal thresholds\n",
    "    for RowIdx in range(0, V2.shape[0]):\n",
    "        n1 = normalize_vec(N1_match_interpolated[RowIdx,:])\n",
    "        n2 = normalize_vec(N2[RowIdx, :])\n",
    "        rad_angle = np.arccos(np.dot(n1, n2))\n",
    "        deg_angle = math.degrees(rad_angle)\n",
    "        if sqrD[RowIdx] <= dDISTANCE_THRESHOLD_SQRD and deg_angle <= dANGLE_THRESHOLD_DEGREES:\n",
    "            Matched[RowIdx] = True\n",
    "\n",
    "    return Matched, W2\n",
    "\n",
    "def is_valid_array(sparse_matrix):\n",
    "    has_invalid_numbers = np.isnan(sparse_matrix.data).any() or np.isinf(sparse_matrix.data).any()\n",
    "    return not has_invalid_numbers\n",
    "\n",
    "def inpaint(V2, F2, W2, Matched):\n",
    "    \"\"\"\n",
    "    Inpaint weights for all the vertices on the target mesh for which  we didnt \n",
    "    find a good match on the source (i.e. Matched[i] == False).\n",
    "\n",
    "    Args:\n",
    "        V2: #V2 by 3 target mesh vertices\n",
    "        F2: #F2 by 3 target mesh triangles indices\n",
    "        W2: #V2 by num_bones, where W2[i,:] are skinning weights copied directly from source using closest point method\n",
    "        Matched: #V2 array of bools, where Matched[i] is True if we found a good match for vertex i on the source mesh\n",
    "\n",
    "    Returns:\n",
    "        W_inpainted: #V2 by num_bones, final skinning weights where we inpainted weights for all vertices i where Matched[i] == False\n",
    "        success: true if inpainting succeeded, false otherwise\n",
    "    \"\"\"\n",
    "\n",
    "    # Compute the laplacian\n",
    "    L = 2*igl.cotmatrix(V2, F2)\n",
    "    M = igl.massmatrix(V2, F2, igl.MASSMATRIX_TYPE_VORONOI)\n",
    "    Minv = sp.sparse.diags(1 / M.diagonal())\n",
    "\n",
    "    is_valid = is_valid_array(L)\n",
    "    if (not is_valid):\n",
    "        print(\"[Error] Laplacian is invalid:\")\n",
    "\n",
    "    is_valid = is_valid_array(Minv)\n",
    "    if (not is_valid):\n",
    "        print(\"[Error] Mass matrix is invalid:\")\n",
    "\n",
    "    Q = -L + L*Minv*L\n",
    "\n",
    "    is_valid = is_valid_array(Q)\n",
    "    if (not is_valid):\n",
    "        print(\"[Error] System matrix is invalid:\")\n",
    "    \n",
    "    Aeq = sp.sparse.csc_matrix((0, 0))\n",
    "    Beq = np.array([])\n",
    "    B = np.zeros(shape = (L.shape[0], W2.shape[1]))\n",
    "\n",
    "    b = np.array(range(0, int(V2.shape[0])), dtype=int)\n",
    "    b = b[Matched]\n",
    "    bc = W2[Matched,:]\n",
    "\n",
    "    results, W_inpainted = igl.min_quad_with_fixed(Q, B, b, bc, Aeq, Beq, True)\n",
    "\n",
    "    return W_inpainted, results\n",
    "\n",
    "def smooth(V2, F2, W2, Matched, dDISTANCE_THRESHOLD, num_smooth_iter_steps=10, smooth_alpha=0.2):\n",
    "    \"\"\"\n",
    "    Smooth weights in the areas for which weights were inpainted and also their close neighbours.\n",
    "\n",
    "    Args:\n",
    "        V2: #V2 by 3 target mesh vertices\n",
    "        F2: #F2 by 3 target mesh triangles indices\n",
    "        W2: #V2 by num_bones skinning weights\n",
    "        Matched: #V2 array of bools, where Matched[i] is True if we found a good match for vertex i on the source mesh\n",
    "        dDISTANCE_THRESHOLD_SQRD: scalar distance threshold\n",
    "        num_smooth_iter_steps: scalar number of smoothing steps\n",
    "        smooth_alpha: scalar the smoothing strength\n",
    "\n",
    "    Returns:\n",
    "        W2_smoothed: #V2 by num_bones new smoothed weights\n",
    "        VIDs_to_smooth: 1D array of vertex IDs for which smoothing was applied\n",
    "    \"\"\"\n",
    "\n",
    "    NotMatched = ~Matched\n",
    "    VIDs_to_smooth = np.array(NotMatched, copy=True)\n",
    "\n",
    "    adj_list = igl.adjacency_list(F2)\n",
    "\n",
    "    def get_points_within_distance(V, VID, distance=dDISTANCE_THRESHOLD):\n",
    "        \"\"\"\n",
    "        Get all neighbours of vertex VID within dDISTANCE_THRESHOLD\n",
    "        \"\"\"\n",
    "\n",
    "        queue = []\n",
    "        queue.append(VID)\n",
    "        while len(queue) != 0:\n",
    "            vv = queue.pop()\n",
    "            neigh = adj_list[vv]\n",
    "            for nn in neigh:\n",
    "                if ~VIDs_to_smooth[nn] and np.linalg.norm(V[VID,:]-V[nn]) < distance:\n",
    "                    VIDs_to_smooth[nn] = True\n",
    "                    if nn not in queue:\n",
    "                        queue.append(nn)\n",
    "                        \n",
    "\n",
    "    for i in range(0, V2.shape[0]):\n",
    "        if NotMatched[i]:\n",
    "            get_points_within_distance(V2, i)\n",
    "\n",
    "    W2_smoothed = np.array(W2, copy=True)\n",
    "    for step_idx in range(0, num_smooth_iter_steps):\n",
    "        for i in range(0, V2.shape[0]):\n",
    "            if VIDs_to_smooth[i]:\n",
    "                neigh = adj_list[i]\n",
    "                num = len(neigh)\n",
    "                weight = W2_smoothed[i,:]\n",
    "\n",
    "                new_weight = (1-smooth_alpha)*weight\n",
    "                for influence_idx in neigh:\n",
    "                    weight_connected = W2_smoothed[influence_idx,:]\n",
    "                    new_weight += (weight_connected / num) * smooth_alpha\n",
    "                \n",
    "                W2_smoothed[i,:] = new_weight\n",
    "\n",
    "    return W2_smoothed, VIDs_to_smooth\n",
    "   \n"
   ]
  },
  {
   "cell_type": "code",
   "execution_count": 184,
   "id": "3f43dd32-7ed6-4774-9201-b23364d9812d",
   "metadata": {},
   "outputs": [],
   "source": [
    "def ply_to_obj(ply_path, obj_path):\n",
    "    mesh = trimesh.load(ply_path)\n",
    "    mesh.process(validate=True)\n",
    "    mesh.export(obj_path, file_type='obj')\n",
    "    print(f\"转换完成:{obj_path}\")"
   ]
  },
  {
   "cell_type": "code",
   "execution_count": 185,
   "id": "5fbf3d2e-f08a-4fe5-bc51-e417aac948a8",
   "metadata": {},
   "outputs": [
    {
     "name": "stdout",
     "output_type": "stream",
     "text": [
      "转换完成:/home/yeyiqi/Documents/dataset/DNA-Rendering/4k4d/0023_06/smplx_138.obj\n"
     ]
    }
   ],
   "source": [
    "ply_to_obj(\"/home/yeyiqi/Documents/dataset/DNA-Rendering/4k4d/0023_06/smplx_138.ply\", \"/home/yeyiqi/Documents/dataset/DNA-Rendering/4k4d/0023_06/smplx_138.obj\")"
   ]
  },
  {
   "cell_type": "code",
   "execution_count": 186,
   "id": "b835ffac-9d24-43eb-91be-02ccd9c9fa49",
   "metadata": {},
   "outputs": [
    {
     "name": "stdout",
     "output_type": "stream",
     "text": [
      "转换完成:/home/yeyiqi/Documents/dataset/DNA-Rendering/4k4d/0023_06/result/rotated_neus.obj\n"
     ]
    }
   ],
   "source": [
    "ply_to_obj(\"/home/yeyiqi/Documents/dataset/DNA-Rendering/4k4d/0023_06/result/rotated_neus.ply\", \"/home/yeyiqi/Documents/dataset/DNA-Rendering/4k4d/0023_06/result/rotated_neus.obj\")"
   ]
  },
  {
   "cell_type": "code",
   "execution_count": 187,
   "id": "559dad43-a2fb-4923-b318-b1fd25f890ea",
   "metadata": {},
   "outputs": [],
   "source": [
    "ps.init()"
   ]
  },
  {
   "cell_type": "code",
   "execution_count": 188,
   "id": "99863791-6b83-465e-9670-addbd8b93792",
   "metadata": {},
   "outputs": [],
   "source": [
    "# Load the source mesh\n",
    "V, F = igl.read_triangle_mesh(\"/home/yeyiqi/Documents/dataset/DNA-Rendering/4k4d/0023_06/smplx_138.obj\")\n",
    "V1, F1, _, _ = igl.remove_unreferenced(V, F)\n",
    "if V.shape[0] != V1.shape[0]:\n",
    "    print(\"[Warning] Source mesh has unreferenced vertices which were removed\")\n",
    "N1 = igl.per_vertex_normals(V1, F1)"
   ]
  },
  {
   "cell_type": "code",
   "execution_count": 189,
   "id": "3974c3f1-7cde-4e9f-a927-fa144cc5b32c",
   "metadata": {},
   "outputs": [],
   "source": [
    "# Load the target mesh\n",
    "V, F = igl.read_triangle_mesh(\"/home/yeyiqi/Documents/dataset/DNA-Rendering/4k4d/0023_06/result/rotated_neus.obj\")\n",
    "V2, F2, _, _ = igl.remove_unreferenced(V, F)\n",
    "if V.shape[0] != V2.shape[0]:\n",
    "    print(\"[Warning] Source mesh has unreferenced vertices which were removed\")\n",
    "N2 = igl.per_vertex_normals(V2, F2)"
   ]
  },
  {
   "cell_type": "code",
   "execution_count": 190,
   "id": "1b907fd7-2898-44b1-9736-69e36aac0298",
   "metadata": {},
   "outputs": [],
   "source": [
    "# Load weights of source mesh\n",
    "W = np.load(\"/home/yeyiqi/Documents/dataset/DNA-Rendering/4k4d/0023_06/weights.npy\")\n",
    "num_bones = W.shape[1]"
   ]
  },
  {
   "cell_type": "code",
   "execution_count": 191,
   "id": "428a5710-e527-4ea7-a996-2a2fe429fc49",
   "metadata": {},
   "outputs": [],
   "source": [
    "# Register source and target Mesh geometries, plus their Normals\n",
    "ps.register_surface_mesh(\"SourceMesh\", V1, F1, smooth_shade=True)\n",
    "ps.register_surface_mesh(\"TargetMesh\", V2, F2, smooth_shade=True)\n",
    "ps.get_surface_mesh(\"SourceMesh\").add_vector_quantity(\"Normals\", N1, defined_on=\"vertices\", color=(0.2,0.5,0.5))\n",
    "ps.get_surface_mesh(\"TargetMesh\").add_vector_quantity(\"Normals\", N2, defined_on=\"vertices\", color=(0.2,0.5,0.5))"
   ]
  },
  {
   "cell_type": "code",
   "execution_count": 192,
   "id": "3590544d-5c51-4aa6-82f7-0c176b7cd322",
   "metadata": {},
   "outputs": [],
   "source": [
    "dDISTANCE_THRESHOLD = 0.05*igl.bounding_box_diagonal(V2)\n",
    "dDISTANCE_THRESHOLD_SQRD = dDISTANCE_THRESHOLD * dDISTANCE_THRESHOLD\n",
    "dANGLE_THRESHOLD_DEGREES = 180"
   ]
  },
  {
   "cell_type": "code",
   "execution_count": 193,
   "id": "07c8f9aa-ac57-4825-a636-3d84ad3b2b2a",
   "metadata": {},
   "outputs": [],
   "source": [
    "Matched, SkinWeights_interpolated = find_matches_closest_surface(V1, F1, N1, V2, F2, N2, W, dDISTANCE_THRESHOLD_SQRD, dANGLE_THRESHOLD_DEGREES)"
   ]
  },
  {
   "cell_type": "code",
   "execution_count": 194,
   "id": "788be682-bd58-4c39-9a5c-0a751534609e",
   "metadata": {},
   "outputs": [],
   "source": [
    "ps.get_surface_mesh(\"TargetMesh\").add_scalar_quantity(\"Matched\", Matched, defined_on=\"vertices\", cmap='blues')"
   ]
  },
  {
   "cell_type": "code",
   "execution_count": 195,
   "id": "f02bfeda-db37-461e-9e96-b9aa1a91878e",
   "metadata": {},
   "outputs": [],
   "source": [
    "InpaintedWeights, success = inpaint(V2, F2, SkinWeights_interpolated, Matched)"
   ]
  },
  {
   "cell_type": "code",
   "execution_count": 196,
   "id": "b998d757-5b0f-488f-af6e-b5a760b7dc0d",
   "metadata": {},
   "outputs": [],
   "source": [
    "if (success):\n",
    "    # Visualize the weights for each bone\n",
    "    ps.get_surface_mesh(\"TargetMesh\").add_scalar_quantity(\"Bone1\", InpaintedWeights[:,0], defined_on='vertices', cmap='blues')\n",
    "    ps.get_surface_mesh(\"TargetMesh\").add_scalar_quantity(\"Bone2\", InpaintedWeights[:,1], defined_on='vertices', cmap='blues')\n",
    "\n",
    "    # Optional smoothing\n",
    "    SmoothedInpaintedWeights, VIDs_to_smooth = smooth(V2, F2, InpaintedWeights, Matched, dDISTANCE_THRESHOLD, num_smooth_iter_steps=10, smooth_alpha=0.2)\n",
    "    ps.get_surface_mesh(\"TargetMesh\").add_scalar_quantity(\"VIDs_to_smooth\", VIDs_to_smooth, defined_on='vertices', cmap='blues')\n",
    "\n",
    "    # Visualize the smoothed weights for each bone\n",
    "    ps.get_surface_mesh(\"TargetMesh\").add_scalar_quantity(\"SmoothedBone1\", InpaintedWeights[:,0], defined_on='vertices', cmap='blues')\n",
    "    ps.get_surface_mesh(\"TargetMesh\").add_scalar_quantity(\"SmoothedBone2\", InpaintedWeights[:,1], defined_on='vertices', cmap='blues')\n",
    "\n",
    "    ps.show()\n",
    "\n",
    "else:\n",
    "    print(\"[Error] Inpainting failed.\")"
   ]
  },
  {
   "cell_type": "code",
   "execution_count": 197,
   "id": "b7043075-c1ec-49e7-8797-322e622d119b",
   "metadata": {},
   "outputs": [
    {
     "data": {
      "text/plain": [
       "array([[0., 0., 0., ..., 0., 0., 0.],\n",
       "       [0., 0., 0., ..., 0., 0., 0.],\n",
       "       [0., 0., 0., ..., 0., 0., 0.],\n",
       "       ...,\n",
       "       [0., 0., 0., ..., 0., 0., 0.],\n",
       "       [0., 0., 0., ..., 0., 0., 0.],\n",
       "       [0., 0., 0., ..., 0., 0., 0.]])"
      ]
     },
     "execution_count": 197,
     "metadata": {},
     "output_type": "execute_result"
    }
   ],
   "source": [
    "InpaintedWeights"
   ]
  },
  {
   "cell_type": "code",
   "execution_count": 198,
   "id": "38706edf-033f-48b9-8dcf-a01d215732e6",
   "metadata": {},
   "outputs": [],
   "source": [
    "np.save(\"/home/yeyiqi/Documents/dataset/DNA-Rendering/4k4d/0023_06/result//inpainted_wights.npy\", InpaintedWeights)"
   ]
  },
  {
   "cell_type": "code",
   "execution_count": 199,
   "id": "82434c8d-3560-4060-9e1b-85ee9dd0d30b",
   "metadata": {},
   "outputs": [
    {
     "data": {
      "text/plain": [
       "(25302, 55)"
      ]
     },
     "execution_count": 199,
     "metadata": {},
     "output_type": "execute_result"
    }
   ],
   "source": [
    "weights2 = np.load(\"/home/yeyiqi/Documents/dataset/DNA-Rendering/4k4d/0023_06/result//inpainted_wights.npy\")\n",
    "weights2.shape"
   ]
  },
  {
   "cell_type": "code",
   "execution_count": 200,
   "id": "2dc4ad8c-a656-4b07-83cc-60a635414c28",
   "metadata": {},
   "outputs": [
    {
     "data": {
      "text/plain": [
       "(25302, 3)"
      ]
     },
     "execution_count": 200,
     "metadata": {},
     "output_type": "execute_result"
    }
   ],
   "source": [
    "N2.shape"
   ]
  },
  {
   "cell_type": "code",
   "execution_count": 201,
   "id": "254a8040-9fab-4f93-b602-497f6e3a5b46",
   "metadata": {},
   "outputs": [
    {
     "data": {
      "text/plain": [
       "array([[ 0.76153086,  0.64349362, -0.07737383],\n",
       "       [ 0.71069646,  0.6207287 , -0.33106859],\n",
       "       [ 0.44427968, -0.89587495, -0.00486146],\n",
       "       ...,\n",
       "       [-0.45540455,  0.02633452,  0.88989504],\n",
       "       [-0.71675925,  0.1206096 , -0.68681111],\n",
       "       [-0.98837005,  0.11763706, -0.09636476]])"
      ]
     },
     "execution_count": 201,
     "metadata": {},
     "output_type": "execute_result"
    }
   ],
   "source": [
    "N2"
   ]
  },
  {
   "cell_type": "code",
   "execution_count": null,
   "id": "08fef4e7-c4f1-4fd7-a37f-1713f10dac62",
   "metadata": {},
   "outputs": [],
   "source": []
  }
 ],
 "metadata": {
  "kernelspec": {
   "display_name": "MyFirst",
   "language": "python",
   "name": "myfirst"
  },
  "language_info": {
   "codemirror_mode": {
    "name": "ipython",
    "version": 3
   },
   "file_extension": ".py",
   "mimetype": "text/x-python",
   "name": "python",
   "nbconvert_exporter": "python",
   "pygments_lexer": "ipython3",
   "version": "3.10.14"
  }
 },
 "nbformat": 4,
 "nbformat_minor": 5
}
