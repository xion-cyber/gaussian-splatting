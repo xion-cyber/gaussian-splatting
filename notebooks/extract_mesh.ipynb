{
 "cells": [
  {
   "cell_type": "code",
   "execution_count": 1,
   "id": "522231ce-21ef-49b8-87f9-c7ea0a9e0173",
   "metadata": {},
   "outputs": [],
   "source": [
    "import pickle\n",
    "from pathlib import Path"
   ]
  },
  {
   "cell_type": "code",
   "execution_count": 2,
   "id": "6541239b-ebe5-4302-b9ca-194c42d0eed2",
   "metadata": {},
   "outputs": [],
   "source": [
    "clothes_folder_path = '/home/yeyiqi/Documents/WD/00129/Outer/Take7/Semantic/clothes'\n",
    "clothes_folder_path = Path(clothes_folder_path)\n",
    "cloth_pkls = clothes_folder_path.glob('*.pkl')\n",
    "clothes_path = list(cloth_pkls)"
   ]
  },
  {
   "cell_type": "code",
   "execution_count": 3,
   "id": "a501dd59-69e6-4ae9-8171-1dd9757e14f3",
   "metadata": {},
   "outputs": [
    {
     "data": {
      "text/plain": [
       "'cloth-f00120.pkl'"
      ]
     },
     "execution_count": 3,
     "metadata": {},
     "output_type": "execute_result"
    }
   ],
   "source": [
    "clothes_path[0].name"
   ]
  },
  {
   "cell_type": "code",
   "execution_count": 4,
   "id": "7834fb4e-9ab9-414b-aec7-1015e0a60208",
   "metadata": {},
   "outputs": [],
   "source": [
    "def save_mesh_as_ply(cloth_path):\n",
    "    with open(cloth_path, 'rb') as file:\n",
    "        data = pickle.load(file)\n",
    "    extract = ['shoe', 'upper', 'lower', 'outer']\n",
    "    for item in extract:\n",
    "        vertices = data[item]['vertices']\n",
    "        uvs = data[item]['uvs']\n",
    "        faces = data[item]['faces']\n",
    "        colors = data[item]['colors']\n",
    "        vertex_count = len(vertices)\n",
    "        face_count = len(faces)\n",
    "        output_path = clothes_folder_path / f'{cloth_path.stem}_{item}.ply'\n",
    "        with open(output_path, 'w') as file:\n",
    "            file.write(f'ply\\n')\n",
    "            file.write(f\"format ascii 1.0\\n\")\n",
    "            file.write(f\"element vertex {vertex_count}\\n\")\n",
    "            file.write(f\"property float x\\n\")\n",
    "            file.write(f\"property float y\\n\")\n",
    "            file.write(f\"property float z\\n\")\n",
    "            file.write(f\"property uchar red\\n\")\n",
    "            file.write(f\"property uchar green\\n\")\n",
    "            file.write(f\"property uchar blue\\n\")\n",
    "            file.write(f\"property uchar alpha\\n\")\n",
    "            file.write(f\"property float u\\n\")\n",
    "            file.write(f\"property float v\\n\")\n",
    "            file.write(f\"element face {face_count}\\n\")\n",
    "            file.write(f\"property list uchar int vertex_indices\\n\")\n",
    "            file.write(f\"end_header\\n\")\n",
    "            for i in range(vertex_count):\n",
    "                vertex = vertices[i]\n",
    "                color = colors[i]\n",
    "                uv = uvs[i]\n",
    "                file.write(f\"{vertex[0]} {vertex[1]} {vertex[2]} {color[0]} {color[1]} {color[2]} {color[3]} {uv[0]} {uv[1]}\\n\")\n",
    "            for face in faces:\n",
    "                file.write(f\"3 {face[0]} {face[1]} {face[2]}\\n\")\n",
    "    "
   ]
  },
  {
   "cell_type": "code",
   "execution_count": 5,
   "id": "460499f5-d20e-4161-9336-4f22407c8060",
   "metadata": {},
   "outputs": [
    {
     "name": "stderr",
     "output_type": "stream",
     "text": [
      "100%|█████████████████████████████████████████| 145/145 [00:14<00:00,  9.81it/s]\n"
     ]
    }
   ],
   "source": [
    "from tqdm import tqdm\n",
    "for i in tqdm(range(len(clothes_path))):\n",
    "    save_mesh_as_ply(clothes_path[i])"
   ]
  },
  {
   "cell_type": "code",
   "execution_count": 6,
   "id": "fd486b66-198f-491b-81b4-2709ba4b9276",
   "metadata": {},
   "outputs": [
    {
     "ename": "NameError",
     "evalue": "name 'data' is not defined",
     "output_type": "error",
     "traceback": [
      "\u001b[0;31m---------------------------------------------------------------------------\u001b[0m",
      "\u001b[0;31mNameError\u001b[0m                                 Traceback (most recent call last)",
      "Cell \u001b[0;32mIn[6], line 1\u001b[0m\n\u001b[0;32m----> 1\u001b[0m \u001b[43mdata\u001b[49m\n",
      "\u001b[0;31mNameError\u001b[0m: name 'data' is not defined"
     ]
    }
   ],
   "source": [
    "data"
   ]
  },
  {
   "cell_type": "code",
   "execution_count": 19,
   "id": "336de458-d024-4f5a-afdc-b16f7d106235",
   "metadata": {},
   "outputs": [],
   "source": [
    "vertices = data['vertices']\n",
    "normals = data['normals']\n",
    "uvs = data['uvs']\n",
    "faces = data['faces']\n",
    "colors = data['colors']"
   ]
  },
  {
   "cell_type": "code",
   "execution_count": 21,
   "id": "438e5f43-3d45-422d-83fe-0e2d48641682",
   "metadata": {},
   "outputs": [
    {
     "name": "stdout",
     "output_type": "stream",
     "text": [
      "42008\n",
      "80000\n"
     ]
    }
   ],
   "source": [
    "vertex_count = len(vertices)\n",
    "print(vertex_count)\n",
    "face_count = len(faces)\n",
    "print(face_count)"
   ]
  },
  {
   "cell_type": "code",
   "execution_count": 22,
   "id": "2a22e57c-d0e0-4392-9943-b79b4d5c98d5",
   "metadata": {},
   "outputs": [],
   "source": [
    "with open('output.ply', 'w') as file:\n",
    "    file.write(f'ply\\n')\n",
    "    file.write(f\"format ascii 1.0\\n\")\n",
    "    file.write(f\"element vertex {vertex_count}\\n\")\n",
    "    file.write(f\"property float x\\n\")\n",
    "    file.write(f\"property float y\\n\")\n",
    "    file.write(f\"property float z\\n\")\n",
    "    file.write(f\"property uchar red\\n\")\n",
    "    file.write(f\"property uchar green\\n\")\n",
    "    file.write(f\"property uchar blue\\n\")\n",
    "    file.write(f\"property uchar alpha\\n\")\n",
    "    file.write(f\"property float nx\\n\")\n",
    "    file.write(f\"property float ny\\n\")\n",
    "    file.write(f\"property float nz\\n\")\n",
    "    file.write(f\"property float u\\n\")\n",
    "    file.write(f\"property float v\\n\")\n",
    "    file.write(f\"element face {face_count}\\n\")\n",
    "    file.write(f\"property list uchar int vertex_indices\\n\")\n",
    "    file.write(f\"end_header\\n\")\n",
    "    for i in range(vertex_count):\n",
    "        vertex = vertices[i]\n",
    "        color = colors[i]\n",
    "        normal = normals[i]\n",
    "        uv = uvs[i]\n",
    "        file.write(f\"{vertex[0]} {vertex[1]} {vertex[2]} {color[0]} {color[1]} {color[2]} {color[3]} {normal[0]} {normal[1]} {normal[2]} {uv[0]} {uv[1]}\\n\")\n",
    "    for face in faces:\n",
    "        file.write(f\"3 {face[0]} {face[1]} {face[2]}\\n\")"
   ]
  },
  {
   "cell_type": "code",
   "execution_count": 1,
   "id": "e8327479-511c-4c63-9497-dc44cc7792a7",
   "metadata": {},
   "outputs": [],
   "source": [
    "import pickle"
   ]
  },
  {
   "cell_type": "code",
   "execution_count": 9,
   "id": "86a97c55-162b-4e21-a3ef-8bb3fbc788b3",
   "metadata": {},
   "outputs": [],
   "source": [
    "with open('../00122/Outer/Take9/Semantic/clothes/cloth-f00090.pkl', 'rb') as file:\n",
    "    data = pickle.load(file)"
   ]
  },
  {
   "cell_type": "code",
   "execution_count": 10,
   "id": "2916cbac-d191-4e93-b55d-bd0ae35981cd",
   "metadata": {},
   "outputs": [
    {
     "data": {
      "text/plain": [
       "{'skin': {'vertices': array([[-0.366236  ,  0.407443  , -0.198548  ],\n",
       "         [-0.35757598,  0.410202  , -0.20040801],\n",
       "         [-0.372139  ,  0.402596  , -0.196535  ],\n",
       "         ...,\n",
       "         [-0.65563   ,  2.04212   ,  0.169026  ],\n",
       "         [-0.66655904,  2.0397    ,  0.16876401],\n",
       "         [-0.0540528 ,  1.967     ,  0.335412  ]], dtype=float32),\n",
       "  'faces': array([[   3,    1,    0],\n",
       "         [   1,    3,    4],\n",
       "         [   2,    6,    0],\n",
       "         ...,\n",
       "         [4482, 4484, 4038],\n",
       "         [3738, 3737, 4048],\n",
       "         [4484, 4048, 3737]]),\n",
       "  'colors': TrackedArray([[132,  68,  61, 255],\n",
       "                [ 91,  47,  39, 255],\n",
       "                [ 72,  34,  39, 255],\n",
       "                ...,\n",
       "                [237, 147, 112, 255],\n",
       "                [176, 110,  74, 255],\n",
       "                [179, 109,  77, 255]], dtype=uint8),\n",
       "  'uvs': array([[0.958628, 0.475665],\n",
       "         [0.961972, 0.476596],\n",
       "         [0.955563, 0.475451],\n",
       "         ...,\n",
       "         [0.991744, 0.625023],\n",
       "         [0.942337, 0.433887],\n",
       "         [0.71896 , 0.840591]], dtype=float32)},\n",
       " 'hair': {'vertices': array([[-0.244257  ,  1.96491   ,  0.026583  ],\n",
       "         [-0.24408501,  1.95884   ,  0.0273216 ],\n",
       "         [-0.25342798,  1.96375   ,  0.0274168 ],\n",
       "         ...,\n",
       "         [-0.211308  ,  2.0493    ,  0.244793  ],\n",
       "         [-0.207345  ,  2.0527701 ,  0.245293  ],\n",
       "         [-0.193114  ,  2.05349   ,  0.244609  ]], dtype=float32),\n",
       "  'faces': array([[  0,   1,   2],\n",
       "         [  1,   0,   3],\n",
       "         [  4,   1,   3],\n",
       "         ...,\n",
       "         [672, 539, 706],\n",
       "         [915, 917, 955],\n",
       "         [956, 955, 917]]),\n",
       "  'colors': TrackedArray([[ 19,  11,  14, 255],\n",
       "                [ 22,  13,  15, 255],\n",
       "                [ 20,  12,  13, 255],\n",
       "                ...,\n",
       "                [ 19,  11,  10, 255],\n",
       "                [ 27,  13,  13, 255],\n",
       "                [ 24,  14,  15, 255]], dtype=uint8),\n",
       "  'uvs': array([[0.324917, 0.570639],\n",
       "         [0.327261, 0.571795],\n",
       "         [0.323606, 0.574606],\n",
       "         ...,\n",
       "         [0.764988, 0.796705],\n",
       "         [0.766733, 0.796489],\n",
       "         [0.770425, 0.792252]], dtype=float32)},\n",
       " 'shoe': {'vertices': array([[-0.217055  ,  0.295049  , -0.303023  ],\n",
       "         [-0.21905   ,  0.29854998, -0.303342  ],\n",
       "         [-0.21133   ,  0.295615  , -0.30294502],\n",
       "         ...,\n",
       "         [-0.157468  ,  0.320932  ,  0.43788198],\n",
       "         [-0.127894  ,  0.28048098,  0.40944502],\n",
       "         [-0.3994    ,  0.278083  , -0.173598  ]], dtype=float32),\n",
       "  'faces': array([[   0,    1,    2],\n",
       "         [   2,    1,    3],\n",
       "         [   2,    3,    4],\n",
       "         ...,\n",
       "         [ 553,  487,  594],\n",
       "         [2113, 2159, 2112],\n",
       "         [2160, 2112, 2159]]),\n",
       "  'colors': TrackedArray([[ 18,  13,  18, 255],\n",
       "                [ 15,  12,  17, 255],\n",
       "                [ 18,  13,  15, 255],\n",
       "                ...,\n",
       "                [ 24,  14,  17, 255],\n",
       "                [ 18,  14,  17, 255],\n",
       "                [ 75,  48,  47, 255]], dtype=uint8),\n",
       "  'uvs': array([[0.966971, 0.570898],\n",
       "         [0.968602, 0.570349],\n",
       "         [0.967634, 0.573471],\n",
       "         ...,\n",
       "         [0.669653, 0.674633],\n",
       "         [0.646905, 0.736818],\n",
       "         [0.906409, 0.195448]], dtype=float32)},\n",
       " 'upper': {'vertices': array([[-0.223062  ,  1.2595501 , -0.0632975 ],\n",
       "         [-0.238431  ,  1.25503   , -0.0566603 ],\n",
       "         [-0.225905  ,  1.25684   , -0.055738  ],\n",
       "         ...,\n",
       "         [-0.322024  ,  1.2456701 ,  0.32150298],\n",
       "         [-0.320299  ,  1.22462   ,  0.329798  ],\n",
       "         [-0.279931  ,  1.65056   ,  0.25104898]], dtype=float32),\n",
       "  'faces': array([[   2,    0,    3],\n",
       "         [   1,    5,    4],\n",
       "         [   1,    2,    5],\n",
       "         ...,\n",
       "         [1567, 1566, 1452],\n",
       "         [1109, 1107, 1204],\n",
       "         [1105, 1204, 1107]]),\n",
       "  'colors': TrackedArray([[ 10,   6,   8, 255],\n",
       "                [151, 145, 139, 255],\n",
       "                [135, 130, 128, 255],\n",
       "                ...,\n",
       "                [254, 252, 250, 255],\n",
       "                [255, 255, 255, 255],\n",
       "                [252, 242, 236, 255]], dtype=uint8),\n",
       "  'uvs': array([[0.0254643, 0.28729  ],\n",
       "         [0.0173762, 0.28166  ],\n",
       "         [0.0204057, 0.286807 ],\n",
       "         ...,\n",
       "         [0.37176  , 0.131192 ],\n",
       "         [0.358646 , 0.130553 ],\n",
       "         [0.219822 , 0.720727 ]], dtype=float32)},\n",
       " 'lower': {'vertices': array([[-0.257293  ,  0.906471  , -0.0831745 ],\n",
       "         [-0.234744  ,  0.90766805, -0.08461519],\n",
       "         [-0.262806  ,  0.909315  , -0.083113  ],\n",
       "         ...,\n",
       "         [-0.287448  ,  0.94730103,  0.365694  ],\n",
       "         [-0.295692  ,  0.943303  ,  0.366     ],\n",
       "         [-0.287119  ,  0.94303304,  0.36572602]], dtype=float32),\n",
       "  'faces': array([[   1,    0,    2],\n",
       "         [   1,    2,    3],\n",
       "         [   2,    7,    8],\n",
       "         ...,\n",
       "         [ 753,  505,  819],\n",
       "         [3378, 3470, 3417],\n",
       "         [3468, 3416, 3494]]),\n",
       "  'colors': TrackedArray([[112,  95,  87, 255],\n",
       "                [146, 134, 130, 255],\n",
       "                [134, 128, 125, 255],\n",
       "                ...,\n",
       "                [143, 138, 136, 255],\n",
       "                [143, 129, 117, 255],\n",
       "                [150, 135, 121, 255]], dtype=uint8),\n",
       "  'uvs': array([[0.430361, 0.336359],\n",
       "         [0.437052, 0.330754],\n",
       "         [0.427645, 0.336652],\n",
       "         ...,\n",
       "         [0.240109, 0.12141 ],\n",
       "         [0.238656, 0.124841],\n",
       "         [0.23805 , 0.121487]], dtype=float32)},\n",
       " 'outer': {'vertices': array([[-0.250183  ,  1.26244   , -0.0670852 ],\n",
       "         [-0.248634  ,  1.26701   , -0.0671054 ],\n",
       "         [-0.23214501,  1.26377   , -0.0673291 ],\n",
       "         ...,\n",
       "         [ 0.163838  ,  1.3341501 ,  0.177964  ],\n",
       "         [-0.485172  ,  1.1970799 ,  0.244552  ],\n",
       "         [-0.488224  ,  1.1968199 ,  0.24571   ]], dtype=float32),\n",
       "  'faces': array([[    0,     1,     2],\n",
       "         [    3,     0,     2],\n",
       "         [    4,     3,     2],\n",
       "         ...,\n",
       "         [12537, 12527, 12265],\n",
       "         [16722, 16778, 16775],\n",
       "         [16776, 16775, 16778]]),\n",
       "  'colors': TrackedArray([[ 36,  23,  31, 255],\n",
       "                [ 26,  16,  19, 255],\n",
       "                [ 42,  31,  35, 255],\n",
       "                ...,\n",
       "                [159, 127, 131, 255],\n",
       "                [ 29,  20,  20, 255],\n",
       "                [ 35,  26,  29, 255]], dtype=uint8),\n",
       "  'uvs': array([[0.0255389, 0.276705 ],\n",
       "         [0.0285109, 0.27751  ],\n",
       "         [0.027722 , 0.283469 ],\n",
       "         ...,\n",
       "         [0.958167 , 0.816155 ],\n",
       "         [0.86816  , 0.818959 ],\n",
       "         [0.868021 , 0.82032  ]], dtype=float32)}}"
      ]
     },
     "execution_count": 10,
     "metadata": {},
     "output_type": "execute_result"
    }
   ],
   "source": [
    "data"
   ]
  },
  {
   "cell_type": "code",
   "execution_count": 11,
   "id": "5f6b00ef-c54b-4519-8b1d-ae5b6349eedc",
   "metadata": {},
   "outputs": [],
   "source": [
    "outer = data['outer']"
   ]
  },
  {
   "cell_type": "code",
   "execution_count": 12,
   "id": "00649f47-dd1a-4eb0-8e83-f50be9291d2a",
   "metadata": {},
   "outputs": [
    {
     "data": {
      "text/plain": [
       "{'vertices': array([[-0.250183  ,  1.26244   , -0.0670852 ],\n",
       "        [-0.248634  ,  1.26701   , -0.0671054 ],\n",
       "        [-0.23214501,  1.26377   , -0.0673291 ],\n",
       "        ...,\n",
       "        [ 0.163838  ,  1.3341501 ,  0.177964  ],\n",
       "        [-0.485172  ,  1.1970799 ,  0.244552  ],\n",
       "        [-0.488224  ,  1.1968199 ,  0.24571   ]], dtype=float32),\n",
       " 'faces': array([[    0,     1,     2],\n",
       "        [    3,     0,     2],\n",
       "        [    4,     3,     2],\n",
       "        ...,\n",
       "        [12537, 12527, 12265],\n",
       "        [16722, 16778, 16775],\n",
       "        [16776, 16775, 16778]]),\n",
       " 'colors': TrackedArray([[ 36,  23,  31, 255],\n",
       "               [ 26,  16,  19, 255],\n",
       "               [ 42,  31,  35, 255],\n",
       "               ...,\n",
       "               [159, 127, 131, 255],\n",
       "               [ 29,  20,  20, 255],\n",
       "               [ 35,  26,  29, 255]], dtype=uint8),\n",
       " 'uvs': array([[0.0255389, 0.276705 ],\n",
       "        [0.0285109, 0.27751  ],\n",
       "        [0.027722 , 0.283469 ],\n",
       "        ...,\n",
       "        [0.958167 , 0.816155 ],\n",
       "        [0.86816  , 0.818959 ],\n",
       "        [0.868021 , 0.82032  ]], dtype=float32)}"
      ]
     },
     "execution_count": 12,
     "metadata": {},
     "output_type": "execute_result"
    }
   ],
   "source": [
    "outer"
   ]
  },
  {
   "cell_type": "code",
   "execution_count": 13,
   "id": "0d65a9e7-32ba-4de1-a20f-9bc678fc8f81",
   "metadata": {},
   "outputs": [],
   "source": [
    "vertices = outer['vertices']\n",
    "uvs = outer['uvs']\n",
    "faces = outer['faces']\n",
    "colors = outer['colors']"
   ]
  },
  {
   "cell_type": "code",
   "execution_count": 14,
   "id": "b6ad7aaf-387f-4800-902a-f34b9d2d2c80",
   "metadata": {},
   "outputs": [
    {
     "name": "stdout",
     "output_type": "stream",
     "text": [
      "17304\n",
      "32488\n"
     ]
    }
   ],
   "source": [
    "vertex_count = len(vertices)\n",
    "print(vertex_count)\n",
    "face_count = len(faces)\n",
    "print(face_count)"
   ]
  },
  {
   "cell_type": "code",
   "execution_count": 15,
   "id": "1de54122-6e3c-43af-bb9f-7e3482f7a785",
   "metadata": {},
   "outputs": [],
   "source": [
    "with open('outer_0090.ply', 'w') as file:\n",
    "    file.write(f'ply\\n')\n",
    "    file.write(f\"format ascii 1.0\\n\")\n",
    "    file.write(f\"element vertex {vertex_count}\\n\")\n",
    "    file.write(f\"property float x\\n\")\n",
    "    file.write(f\"property float y\\n\")\n",
    "    file.write(f\"property float z\\n\")\n",
    "    file.write(f\"property uchar red\\n\")\n",
    "    file.write(f\"property uchar green\\n\")\n",
    "    file.write(f\"property uchar blue\\n\")\n",
    "    file.write(f\"property uchar alpha\\n\")\n",
    "    file.write(f\"property float u\\n\")\n",
    "    file.write(f\"property float v\\n\")\n",
    "    file.write(f\"element face {face_count}\\n\")\n",
    "    file.write(f\"property list uchar int vertex_indices\\n\")\n",
    "    file.write(f\"end_header\\n\")\n",
    "    for i in range(vertex_count):\n",
    "        vertex = vertices[i]\n",
    "        color = colors[i]\n",
    "        uv = uvs[i]\n",
    "        file.write(f\"{vertex[0]} {vertex[1]} {vertex[2]} {color[0]} {color[1]} {color[2]} {color[3]} {uv[0]} {uv[1]}\\n\")\n",
    "    for face in faces:\n",
    "        file.write(f\"3 {face[0]} {face[1]} {face[2]}\\n\")"
   ]
  },
  {
   "cell_type": "code",
   "execution_count": null,
   "id": "fa38977a-ef4a-4ba0-8e5d-211ce9f05758",
   "metadata": {},
   "outputs": [],
   "source": []
  }
 ],
 "metadata": {
  "kernelspec": {
   "display_name": "MyFirst",
   "language": "python",
   "name": "myfirst"
  },
  "language_info": {
   "codemirror_mode": {
    "name": "ipython",
    "version": 3
   },
   "file_extension": ".py",
   "mimetype": "text/x-python",
   "name": "python",
   "nbconvert_exporter": "python",
   "pygments_lexer": "ipython3",
   "version": "3.10.14"
  }
 },
 "nbformat": 4,
 "nbformat_minor": 5
}
