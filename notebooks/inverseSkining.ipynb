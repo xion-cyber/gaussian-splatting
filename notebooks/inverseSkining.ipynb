{
 "cells": [
  {
   "cell_type": "code",
   "execution_count": 75,
   "id": "d65e9904-8c20-4224-b580-c85bd774b48c",
   "metadata": {},
   "outputs": [],
   "source": [
    "import numpy as np\n",
    "from plyfile import PlyData\n",
    "import smplx\n",
    "from smplx.lbs import batch_rodrigues\n",
    "import torch"
   ]
  },
  {
   "cell_type": "code",
   "execution_count": 76,
   "id": "25faebd8-3a8b-4746-9b6f-48d9a1e3908d",
   "metadata": {},
   "outputs": [
    {
     "data": {
      "text/plain": [
       "PlyData((PlyElement('vertex', (PlyProperty('x', 'double'), PlyProperty('y', 'double'), PlyProperty('z', 'double'), PlyProperty('red', 'uchar'), PlyProperty('green', 'uchar'), PlyProperty('blue', 'uchar')), count=25302, comments=[]), PlyElement('face', (PlyListProperty('vertex_indices', 'uchar', 'uint'),), count=50620, comments=[])), text=False, byte_order='<', comments=['Created by Open3D'], obj_info=[])"
      ]
     },
     "execution_count": 76,
     "metadata": {},
     "output_type": "execute_result"
    }
   ],
   "source": [
    "ply_data = PlyData.read(\"/home/yeyiqi/Documents/dataset/DNA-Rendering/4k4d/0023_06/result/rotated_neus.ply\")\n",
    "ply_data"
   ]
  },
  {
   "cell_type": "code",
   "execution_count": 77,
   "id": "8ce9bcd0-a21c-4a08-838b-f1cf4683c37b",
   "metadata": {},
   "outputs": [
    {
     "data": {
      "text/plain": [
       "array([(array([ 1,  8, 22], dtype=uint32),),\n",
       "       (array([ 2, 22,  8], dtype=uint32),),\n",
       "       (array([25, 24,  8], dtype=uint32),), ...,\n",
       "       (array([25283, 25296, 25252], dtype=uint32),),\n",
       "       (array([25296, 25283, 25271], dtype=uint32),),\n",
       "       (array([25296, 25271, 25290], dtype=uint32),)],\n",
       "      dtype=[('vertex_indices', 'O')])"
      ]
     },
     "execution_count": 77,
     "metadata": {},
     "output_type": "execute_result"
    }
   ],
   "source": [
    "verts = ply_data['vertex'].data.copy()\n",
    "faces = ply_data['face'].data.copy()\n",
    "faces"
   ]
  },
  {
   "cell_type": "code",
   "execution_count": 78,
   "id": "9ca5fb1a-afb3-4bc4-abce-df12f74f77e8",
   "metadata": {},
   "outputs": [
    {
     "data": {
      "text/plain": [
       "(25302, 3)"
      ]
     },
     "execution_count": 78,
     "metadata": {},
     "output_type": "execute_result"
    }
   ],
   "source": [
    "verts_xyz = np.vstack([\n",
    "    verts[\"x\"], \n",
    "    verts[\"y\"], \n",
    "    verts[\"z\"]\n",
    "]).T\n",
    "verts_xyz.shape"
   ]
  },
  {
   "cell_type": "code",
   "execution_count": 79,
   "id": "53c75b4d-19ef-4799-ab2e-cbc612e37397",
   "metadata": {},
   "outputs": [
    {
     "data": {
      "text/plain": [
       "(25302, 3)"
      ]
     },
     "execution_count": 79,
     "metadata": {},
     "output_type": "execute_result"
    }
   ],
   "source": [
    "verts_colors = np.vstack([\n",
    "    verts[\"red\"], \n",
    "    verts[\"green\"], \n",
    "    verts[\"blue\"]\n",
    "]).T\n",
    "verts_colors.shape"
   ]
  },
  {
   "cell_type": "code",
   "execution_count": 80,
   "id": "f271745a-7973-4c43-984c-edfd88f62b10",
   "metadata": {},
   "outputs": [
    {
     "data": {
      "text/plain": [
       "['hands_meanr',\n",
       " 'hands_meanl',\n",
       " 'lmk_bary_coords',\n",
       " 'vt',\n",
       " 'posedirs',\n",
       " 'part2num',\n",
       " 'hands_coeffsr',\n",
       " 'lmk_faces_idx',\n",
       " 'J_regressor',\n",
       " 'dynamic_lmk_faces_idx',\n",
       " 'hands_componentsr',\n",
       " 'shapedirs',\n",
       " 'dynamic_lmk_bary_coords',\n",
       " 'ft',\n",
       " 'hands_componentsl',\n",
       " 'joint2num',\n",
       " 'v_template',\n",
       " 'allow_pickle',\n",
       " 'f',\n",
       " 'hands_coeffsl',\n",
       " 'kintree_table',\n",
       " 'weights']"
      ]
     },
     "execution_count": 80,
     "metadata": {},
     "output_type": "execute_result"
    }
   ],
   "source": [
    "smplx_neutral_path = '/home/yeyiqi/Documents/models/SMPLX/models_smplx_v1_1/models/smplx/SMPLX_FEMALE.npz'\n",
    "smplx_neutral = np.load(smplx_neutral_path, allow_pickle=True)\n",
    "smplx_neutral.files"
   ]
  },
  {
   "cell_type": "code",
   "execution_count": 81,
   "id": "61f4250c-7c8e-441b-a00c-13219a5add42",
   "metadata": {
    "scrolled": true
   },
   "outputs": [
    {
     "data": {
      "text/plain": [
       "{'betas': array([-0.72901833, -0.02397307,  0.36086836,  0.09754749, -0.01564887,\n",
       "         0.1988453 , -0.2623446 , -0.02810438,  0.0090983 , -0.01106459],\n",
       "       dtype=float32),\n",
       " 'expression': array([0., 0., 0., 0., 0., 0., 0., 0., 0., 0.], dtype=float32),\n",
       " 'fullpose': array([[-3.07444096e+00, -2.39856169e-02,  9.65236053e-02],\n",
       "        [-1.23288423e-01,  1.35821253e-01,  1.83672830e-01],\n",
       "        [-5.97385727e-02, -1.50671721e-01, -5.96103631e-02],\n",
       "        [-4.93283421e-02,  1.05310772e-02, -2.93583069e-02],\n",
       "        [ 1.88995525e-01, -3.96085018e-03, -2.67400108e-02],\n",
       "        [ 3.79582345e-02, -9.35346633e-03,  2.41890643e-02],\n",
       "        [ 1.63542181e-02,  1.76432543e-02,  9.11491290e-02],\n",
       "        [ 1.01198770e-01,  1.54060557e-01, -2.05542091e-02],\n",
       "        [ 1.26764238e-01, -1.56168893e-01,  3.70162800e-02],\n",
       "        [-6.43462166e-02,  1.52516877e-02, -3.57957333e-02],\n",
       "        [ 2.40524393e-03, -3.30665475e-03,  5.05712675e-03],\n",
       "        [ 9.58514214e-03, -2.73830164e-03, -4.60793060e-04],\n",
       "        [ 3.54146242e-01,  3.19286108e-01, -2.26992384e-01],\n",
       "        [-3.58279347e-02, -2.21030831e-01, -1.46185502e-01],\n",
       "        [-1.86637361e-02,  6.27877787e-02, -1.30401710e-02],\n",
       "        [-6.94128126e-02,  3.48527700e-01,  4.78296056e-02],\n",
       "        [-3.61124694e-01, -2.05573395e-01,  7.10795540e-03],\n",
       "        [-2.24871188e-01,  1.55110583e-01,  1.39629513e-01],\n",
       "        [-2.37143878e-02,  6.32941490e-03,  1.63573306e-02],\n",
       "        [ 2.28030402e-02,  1.28046110e-01,  5.14817704e-03],\n",
       "        [-2.39977717e-01, -1.10118069e-01,  4.99300271e-01],\n",
       "        [-1.48991942e-01,  7.40641505e-02, -2.06202418e-01],\n",
       "        [ 0.00000000e+00,  0.00000000e+00,  0.00000000e+00],\n",
       "        [ 0.00000000e+00,  0.00000000e+00,  0.00000000e+00],\n",
       "        [ 0.00000000e+00,  0.00000000e+00,  0.00000000e+00],\n",
       "        [ 3.76371481e-02,  6.94505200e-02,  1.07458159e-01],\n",
       "        [ 1.67691186e-02,  4.24774289e-02,  4.46612239e-02],\n",
       "        [-3.23068374e-03,  1.67448912e-02,  2.23592706e-02],\n",
       "        [-1.39855044e-02, -2.47079059e-02,  8.25266466e-02],\n",
       "        [-7.15154829e-03, -2.58525033e-02,  3.77274454e-02],\n",
       "        [ 3.48019041e-03, -1.92842633e-02,  1.59848630e-02],\n",
       "        [-6.46691099e-02, -7.81801119e-02,  2.08238177e-02],\n",
       "        [-1.09579032e-02, -4.65228036e-02,  1.55042019e-02],\n",
       "        [-1.94980938e-04, -1.88905466e-02,  2.20263028e-03],\n",
       "        [-2.11321823e-02, -2.47099977e-02,  5.85910901e-02],\n",
       "        [-7.35667814e-03, -2.41491031e-02,  3.15435119e-02],\n",
       "        [ 2.56152730e-03, -1.86851081e-02,  1.07834497e-02],\n",
       "        [ 3.11291125e-02,  1.71521053e-01,  6.06782772e-02],\n",
       "        [ 1.65953282e-02,  1.21792726e-01,  2.56506111e-02],\n",
       "        [ 1.26561048e-02,  6.37055039e-02,  7.64413504e-03],\n",
       "        [ 4.26469836e-03, -1.04114218e-02, -5.67947291e-02],\n",
       "        [ 1.44570193e-03, -8.57843738e-03, -3.63142602e-02],\n",
       "        [-5.31460973e-04, -3.81487026e-03, -1.79250743e-02],\n",
       "        [-5.48196444e-03,  9.37390607e-03, -3.12193688e-02],\n",
       "        [-1.64816051e-03,  1.02393320e-02, -2.40523499e-02],\n",
       "        [ 1.66460511e-03,  6.18704408e-03, -1.20159052e-02],\n",
       "        [-2.05585416e-02,  2.96019316e-02, -1.74279939e-02],\n",
       "        [ 7.45658472e-05,  1.80816036e-02, -1.33347511e-02],\n",
       "        [ 1.90343615e-03,  7.37349922e-03, -5.57335280e-03],\n",
       "        [ 2.25863070e-03,  1.86163350e-03, -5.34954853e-02],\n",
       "        [ 5.49195195e-03,  4.22268780e-03, -4.28140387e-02],\n",
       "        [ 4.66993405e-03,  4.17622505e-03, -2.10178494e-02],\n",
       "        [-3.02760601e-02, -5.69910854e-02, -6.90577328e-02],\n",
       "        [-1.86570846e-02, -4.58165035e-02, -3.41304205e-02],\n",
       "        [-9.02343541e-03, -2.10145898e-02, -1.16114970e-02]], dtype=float32),\n",
       " 'transl': array([-0.13574322,  0.3117452 , -0.28197917], dtype=float32),\n",
       " 'scale': 1.0}"
      ]
     },
     "execution_count": 81,
     "metadata": {},
     "output_type": "execute_result"
    }
   ],
   "source": [
    "smplxs_data = np.load('/home/yeyiqi/Documents/dataset/DNA-Rendering/4k4d/0023_06/smplxs.npy', allow_pickle=True)\n",
    "smplx_data = smplxs_data[138]\n",
    "smplx_data"
   ]
  },
  {
   "cell_type": "code",
   "execution_count": 82,
   "id": "992b1c13-ff67-4e4b-abe4-7cbc95ad2606",
   "metadata": {},
   "outputs": [],
   "source": [
    "verts_xyz = verts_xyz - smplx_data['transl']"
   ]
  },
  {
   "cell_type": "code",
   "execution_count": 83,
   "id": "60b2ab27-c4fc-4cec-8a56-6ada0439abb9",
   "metadata": {},
   "outputs": [],
   "source": [
    "fullpose = torch.from_numpy(smplx_data['fullpose']).view(1, -1, 3)\n",
    "rot_mats = batch_rodrigues(fullpose.view(-1, 3)).view([1, -1, 3, 3])"
   ]
  },
  {
   "cell_type": "code",
   "execution_count": 84,
   "id": "5b182f23-3572-455a-9ed3-98c2f3bfa001",
   "metadata": {},
   "outputs": [],
   "source": [
    "model_folder = '/home/yeyiqi/Documents/repos/GaussianAvatar/assets/smpl_files'\n",
    "model_type = 'smplx'\n",
    "kwargs = dict(gender='neutral',\n",
    "        num_betas=10,\n",
    "        use_face_contour=True,\n",
    "        flat_hand_mean=False,\n",
    "        use_pca=False,\n",
    "        batch_size=1,\n",
    "        ext = 'pkl'\n",
    ")\n",
    "\n",
    "model = smplx.create(\n",
    "    model_path = model_folder,\n",
    "    model_type = model_type,\n",
    "    **kwargs\n",
    ")"
   ]
  },
  {
   "cell_type": "code",
   "execution_count": 85,
   "id": "99c9f167-e7a0-43c8-83e3-943d56e35125",
   "metadata": {},
   "outputs": [],
   "source": [
    "from smplx.lbs import blend_shapes, vertices2joints, batch_rigid_transform\n",
    "v_template = torch.from_numpy(smplx_neutral['v_template']).view(1, -1, 3).float()\n",
    "shapedirs = torch.from_numpy(smplx_neutral['shapedirs'][:,:,:10]).float()\n",
    "J_regressor = torch.from_numpy(smplx_neutral['J_regressor']).float()\n",
    "posedirs = torch.from_numpy(smplx_neutral['posedirs']).float()\n",
    "W = np.load(\"/home/yeyiqi/Documents/dataset/DNA-Rendering/4k4d/0023_06/result/inpainted_wights.npy\")\n",
    "W = torch.from_numpy(W).float()\n",
    "parents = torch.from_numpy(smplx_neutral['kintree_table'][0]).long()\n",
    "parents[0] = -1"
   ]
  },
  {
   "cell_type": "code",
   "execution_count": 86,
   "id": "a677075e-7c96-4d1f-9f4a-2a4931a42d2f",
   "metadata": {},
   "outputs": [],
   "source": [
    "betas = torch.from_numpy(smplx_data['betas']).view(1,-1).float()\n",
    "expression = torch.from_numpy(smplx_data['expression']).view(1, -1).float()\n",
    "fullpose = torch.from_numpy(smplx_data['fullpose']).view(-1,3).float()\n",
    "transl = torch.from_numpy(smplx_data['transl']).float()"
   ]
  },
  {
   "cell_type": "code",
   "execution_count": 87,
   "id": "40764b5a-8869-4fc6-98d0-09af628d3833",
   "metadata": {},
   "outputs": [],
   "source": [
    "v_shaped = v_template + blend_shapes(betas, shapedirs)\n",
    "J = vertices2joints(J_regressor, v_shaped)\n",
    "ident = torch.eye(3, dtype=torch.float, device='cpu')\n",
    "rot_mats = batch_rodrigues(fullpose).view([1, -1, 3, 3])\n",
    "J_transformed, A = batch_rigid_transform(rot_mats, J, parents)\n",
    "W = W.unsqueeze(dim=0).expand([1, -1, -1])\n",
    "num_joints = J_regressor.shape[0]\n",
    "T = torch.matmul(W, A.view(1, num_joints, 16)).view(1, -1, 4, 4)\n",
    "T_reg = T + 1e-6 * torch.eye(4, device=T.device)"
   ]
  },
  {
   "cell_type": "code",
   "execution_count": 88,
   "id": "b5680f32-3b09-4cba-9f00-1cdb958d9435",
   "metadata": {},
   "outputs": [],
   "source": [
    "verts_tensor = torch.from_numpy(verts_xyz).float().view(1, -1, 3)"
   ]
  },
  {
   "cell_type": "code",
   "execution_count": 89,
   "id": "fb565a91-a0d3-43bc-b43e-9846bca1857c",
   "metadata": {},
   "outputs": [],
   "source": [
    "homo = torch.ones((1, verts_tensor.shape[1], 1), dtype=torch.float, device=\"cpu\")\n",
    "verts_homo = torch.cat([verts_tensor, homo], dim=-1)\n",
    "T_inv = torch.inverse(T)\n",
    "v_posed_homo = torch.matmul(T_inv, verts_homo.unsqueeze(-1))\n",
    "v_posed = v_posed_homo.squeeze(-1)[:, :, :3]"
   ]
  },
  {
   "cell_type": "code",
   "execution_count": 90,
   "id": "bd530221-2c8b-48b9-9f55-675bbc7277ae",
   "metadata": {},
   "outputs": [],
   "source": [
    "v_posed = v_posed.squeeze()\n",
    "v_posed = v_posed.numpy()"
   ]
  },
  {
   "cell_type": "code",
   "execution_count": 91,
   "id": "de79c23c-f485-41ae-a936-cfd362a32f04",
   "metadata": {},
   "outputs": [
    {
     "data": {
      "text/plain": [
       "(50620, 3)"
      ]
     },
     "execution_count": 91,
     "metadata": {},
     "output_type": "execute_result"
    }
   ],
   "source": [
    "faces = np.vstack(ply_data[\"face\"][\"vertex_indices\"])\n",
    "faces.shape"
   ]
  },
  {
   "cell_type": "code",
   "execution_count": 92,
   "id": "54ae0c82-e5b4-4025-bb4a-325f61253172",
   "metadata": {},
   "outputs": [],
   "source": [
    "with open(\"/home/yeyiqi/Documents/dataset/DNA-Rendering/4k4d/0023_06/result/invSkinning.ply\", \"w\") as file:\n",
    "    file.write(f'ply\\n')\n",
    "    file.write(f\"format ascii 1.0\\n\")\n",
    "    file.write(f\"element vertex {verts.shape[0]}\\n\")\n",
    "    file.write(f\"property float x\\n\")\n",
    "    file.write(f\"property float y\\n\")\n",
    "    file.write(f\"property float z\\n\")\n",
    "    file.write(f\"property uchar red\\n\")\n",
    "    file.write(f\"property uchar green\\n\")\n",
    "    file.write(f\"property uchar blue\\n\")\n",
    "    file.write(f\"element face {faces.shape[0]}\\n\")\n",
    "    file.write(f\"property list uchar int vertex_indices\\n\")\n",
    "    file.write(f\"end_header\\n\")\n",
    "    for i in range(verts.shape[0]):\n",
    "        vertex = v_posed[i]\n",
    "        color = verts_colors[i]\n",
    "        file.write(f\"{vertex[0]} {vertex[1]} {vertex[2]} {color[0]} {color[1]} {color[2]}\\n\")\n",
    "    for face in faces:\n",
    "        file.write(f\"3 {face[0]} {face[1]} {face[2]}\\n\")"
   ]
  },
  {
   "cell_type": "code",
   "execution_count": null,
   "id": "e381b8a3-e3fc-437f-86f5-64bff1a04ff0",
   "metadata": {},
   "outputs": [],
   "source": []
  },
  {
   "cell_type": "code",
   "execution_count": null,
   "id": "a8364a13-ba80-42b2-a81b-22cd96dbba9e",
   "metadata": {},
   "outputs": [],
   "source": []
  }
 ],
 "metadata": {
  "kernelspec": {
   "display_name": "gaussian-avatars",
   "language": "python",
   "name": "gaussian-avatars"
  },
  "language_info": {
   "codemirror_mode": {
    "name": "ipython",
    "version": 3
   },
   "file_extension": ".py",
   "mimetype": "text/x-python",
   "name": "python",
   "nbconvert_exporter": "python",
   "pygments_lexer": "ipython3",
   "version": "3.10.16"
  }
 },
 "nbformat": 4,
 "nbformat_minor": 5
}
