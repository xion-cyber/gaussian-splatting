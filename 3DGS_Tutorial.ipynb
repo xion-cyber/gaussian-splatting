{
 "cells": [
  {
   "cell_type": "markdown",
   "id": "8ac769ea-fa9f-442d-bd07-d7e5f194fc79",
   "metadata": {},
   "source": [
    "# 3DGS SPLATTING TUTORIAL\n",
    "- 为什么3D Gaussian是椭球？\n",
    "- 协方差矩阵如何控制椭球形状？\n",
    "- 协方差矩阵为何能用旋转和缩放矩阵表达？\n",
    "- 各向异性和各向同性是什么意思？\n",
    "- 为什么引入雅可比矩阵？\n",
    "- 球谐函数为什么能够更好地表达颜色？\n",
    "- 3DGS为何比NeRF快？"
   ]
  },
  {
   "cell_type": "markdown",
   "id": "a5fcebaa-228b-4c74-a05f-e378a5caa2ce",
   "metadata": {},
   "source": [
    "## 为什么3D Gaussian是椭球？"
   ]
  },
  {
   "cell_type": "markdown",
   "id": "45e1ae54-db82-49ca-bc12-b46a204b58d0",
   "metadata": {},
   "source": [
    "**为什么选择高斯函数？**\n",
    "\n",
    "有很好的数学性质：\n",
    "- 仿射变换后仍然是高斯函数\n",
    "- 能从3D投影为2D高斯\n"
   ]
  },
  {
   "cell_type": "code",
   "execution_count": null,
   "id": "5ebdfe37-bba8-4d34-8488-acb15a3c4fbc",
   "metadata": {},
   "outputs": [],
   "source": []
  }
 ],
 "metadata": {
  "kernelspec": {
   "display_name": "gaussian_splatting",
   "language": "python",
   "name": "gaussian_splatting"
  },
  "language_info": {
   "codemirror_mode": {
    "name": "ipython",
    "version": 3
   },
   "file_extension": ".py",
   "mimetype": "text/x-python",
   "name": "python",
   "nbconvert_exporter": "python",
   "pygments_lexer": "ipython3",
   "version": "3.12.4"
  }
 },
 "nbformat": 4,
 "nbformat_minor": 5
}
