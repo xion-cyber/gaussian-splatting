{
 "cells": [
  {
   "cell_type": "markdown",
   "id": "8ac769ea-fa9f-442d-bd07-d7e5f194fc79",
   "metadata": {},
   "source": [
    "# 3DGS SPLATTING TUTORIAL\n",
    "- 为什么3D Gaussian是椭球？\n",
    "- 协方差矩阵如何控制椭球形状？\n",
    "- 协方差矩阵为何能用旋转和缩放矩阵表达？\n",
    "- 各向异性和各向同性是什么意思？\n",
    "- 为什么引入雅可比矩阵？\n",
    "- 球谐函数为什么能够更好地表达颜色？\n",
    "- 3DGS为何比NeRF快？"
   ]
  },
  {
   "cell_type": "markdown",
   "id": "a5fcebaa-228b-4c74-a05f-e378a5caa2ce",
   "metadata": {},
   "source": [
    "## 为什么3D Gaussian是椭球？"
   ]
  },
  {
   "cell_type": "markdown",
   "id": "45e1ae54-db82-49ca-bc12-b46a204b58d0",
   "metadata": {},
   "source": [
    "**为什么选择高斯函数？**\n",
    "\n",
    "有很好的数学性质：\n",
    "- 仿射变换后仍然是高斯函数\n",
    "- 能从3D投影为2D高斯\n"
   ]
  },
  {
   "cell_type": "markdown",
   "id": "059d6dcb-f717-4b20-b4c4-84d8b19fe610",
   "metadata": {},
   "source": [
    "## 如何从四元数中构建一个旋转矩阵\n",
    "四元数构造旋转矩阵是一种高效且数值稳定的方法，尤其适用于避免欧拉角表示的万向节锁问题。\n",
    "\n",
    "四元数通常表示为：$$q=w+xi+yj+zk$$\n",
    "其中$w$是实部，$x$,$y$,$z$是虚部的系数。\n",
    "\n",
    "为了表示一个有效的旋转，四元数需要满足归一化条件：$$w^2+x^2+y^2+z^2=1$$\n",
    "如果未归一化，可以将四元数处以模长$\\|q\\|$\n",
    "\n",
    "对应四元数的旋转矩阵$R$是一个$3\\times 3$矩阵，其元素由四元数的分量决定：\n",
    "$$\n",
    "R = \n",
    "\\begin{bmatrix}\n",
    "1-2y^2-2z^2 & 2xy-2wz & 2xz+2wy \\\\\n",
    "2xy+2wz & 1-2x^2-2z^2 & 2yz-2wx \\\\\n",
    "2xz-2wy & 2yz+2wx & 1-2x^2-2y^2\n",
    "\\end{bmatrix}\n",
    "$$\n",
    "\n"
   ]
  },
  {
   "cell_type": "code",
   "execution_count": 2,
   "id": "928e56ab-88cb-41a1-a00d-87d6d5ce1da1",
   "metadata": {},
   "outputs": [
    {
     "name": "stdout",
     "output_type": "stream",
     "text": [
      "Parameter: Parameter containing:\n",
      "tensor([[0.3379, 0.0200]], requires_grad=True)\n",
      "State: {'step': tensor(1.), 'exp_avg': tensor([[0.1000, 0.2000]]), 'exp_avg_sq': tensor([[0.0010, 0.0040]])}\n",
      "Parameter: Parameter containing:\n",
      "tensor([-0.1998], requires_grad=True)\n",
      "State: {'step': tensor(1.), 'exp_avg': tensor([0.1000]), 'exp_avg_sq': tensor([0.0010])}\n"
     ]
    }
   ],
   "source": [
    "import torch\n",
    "import torch.nn as nn\n",
    "import torch.optim as optim\n",
    "\n",
    "# 定义一个简单的模型\n",
    "model = nn.Linear(2, 1)  # 输入 2，输出 1\n",
    "optimizer = optim.Adam(model.parameters(), lr=0.01)\n",
    "\n",
    "# 前向传播和优化\n",
    "x = torch.tensor([[1.0, 2.0]], requires_grad=True)\n",
    "y = model(x)\n",
    "loss = y.sum()\n",
    "loss.backward()\n",
    "optimizer.step()\n",
    "\n",
    "# 查看 optimizer.state\n",
    "for param in model.parameters():\n",
    "    state = optimizer.state.get(param)\n",
    "    print(f\"Parameter: {param}\")\n",
    "    print(f\"State: {state}\")"
   ]
  },
  {
   "cell_type": "code",
   "execution_count": null,
   "id": "3c167410-7395-467e-857d-654759cb1ed5",
   "metadata": {},
   "outputs": [],
   "source": []
  }
 ],
 "metadata": {
  "kernelspec": {
   "display_name": "gaussian_splatting",
   "language": "python",
   "name": "gaussian_splatting"
  },
  "language_info": {
   "codemirror_mode": {
    "name": "ipython",
    "version": 3
   },
   "file_extension": ".py",
   "mimetype": "text/x-python",
   "name": "python",
   "nbconvert_exporter": "python",
   "pygments_lexer": "ipython3",
   "version": "3.12.4"
  }
 },
 "nbformat": 4,
 "nbformat_minor": 5
}
